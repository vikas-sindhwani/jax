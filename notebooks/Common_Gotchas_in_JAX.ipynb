{
  "nbformat": 4,
  "nbformat_minor": 0,
  "metadata": {
    "colab": {
      "name": "Common Gotchas in JAX",
      "version": "0.3.2",
      "provenance": [],
      "collapsed_sections": [],
      "toc_visible": true
    },
    "kernelspec": {
      "name": "python3",
      "display_name": "Python 3"
    },
    "accelerator": "GPU"
  },
  "cells": [
    {
      "cell_type": "markdown",
      "metadata": {
        "id": "uFfowrpjheff",
        "colab_type": "text"
      },
      "source": [
        "##### Copyright 2019 Google LLC.\n",
        "\n",
        "Licensed under the Apache License, Version 2.0 (the \"License\");\n",
        "\n",
        "Licensed under the Apache License, Version 2.0 (the \"License\");\n",
        "you may not use this file except in compliance with the License.\n",
        "You may obtain a copy of the License at\n",
        "\n",
        "https://www.apache.org/licenses/LICENSE-2.0\n",
        "\n",
        "Unless required by applicable law or agreed to in writing, software\n",
        "distributed under the License is distributed on an \"AS IS\" BASIS,\n",
        "WITHOUT WARRANTIES OR CONDITIONS OF ANY KIND, either express or implied.\n",
        "See the License for the specific language governing permissions and\n",
        "limitations under the License."
      ]
    },
    {
      "cell_type": "markdown",
      "metadata": {
        "id": "hjM_sV_AepYf",
        "colab_type": "text"
      },
      "source": [
        "# 🔪 JAX - The Sharp Bits 🔪"
      ]
    },
    {
      "cell_type": "markdown",
      "metadata": {
        "id": "4k5PVzEo2uJO",
        "colab_type": "text"
      },
      "source": [
        "*levskaya@ mattjj@*\n",
        "\n",
        "When walking about the countryside of [Italy](https://iaml.it/blog/jax-intro), the people will not hesitate to tell you that __JAX__ has _\"una anima di pura programmazione funzionale\"_.\n",
        "\n",
        "__JAX__ is a language for __expressing__ and __composing__ __transformations__ of numerical programs.  As such it needs to control the _unwanted proliferation_ of __side-effects__ in its programs so that analysis and transformation of its computations remain tractable!\n",
        "\n",
        "This requires us to write code in a _functional_ style with _explicit_ descriptions of how the state of a program changes, which results in __several important differences__ to how you might be used to programming in Numpy, Tensorflow or Pytorch.\n",
        "\n",
        "Herein we try to cover the most frequent points of trouble that users encounter when starting out in __JAX__."
      ]
    },
    {
      "cell_type": "markdown",
      "metadata": {
        "id": "n2r1_5_KeiF1",
        "colab_type": "text"
      },
      "source": [
        "### Imports"
      ]
    },
    {
      "cell_type": "code",
      "metadata": {
        "id": "GoK_PCxPeYcy",
        "colab_type": "code",
        "colab": {}
      },
      "source": [
        "import numpy as onp\n",
        "from jax import grad, jit\n",
        "from jax import lax\n",
        "from jax import random\n",
        "import jax\n",
        "import jax.numpy as np\n",
        "import matplotlib as mpl\n",
        "from matplotlib import pyplot as plt\n",
        "from matplotlib import rcParams\n",
        "rcParams['image.interpolation'] = 'nearest'\n",
        "rcParams['image.cmap'] = 'viridis'\n",
        "rcParams['axes.grid'] = False"
      ],
      "execution_count": 0,
      "outputs": []
    },
    {
      "cell_type": "markdown",
      "metadata": {
        "id": "oBdKtkVW8Lha",
        "colab_type": "text"
      },
      "source": [
        "# 🔪 In-Place Updates\n",
        "---"
      ]
    },
    {
      "cell_type": "markdown",
      "metadata": {
        "id": "JffAqnEW4JEb",
        "colab_type": "text"
      },
      "source": [
        "In Numpy you're used to doing this:"
      ]
    },
    {
      "cell_type": "code",
      "metadata": {
        "id": "om4xV7_84N9j",
        "colab_type": "code",
        "outputId": "25ed90e1-74f9-420c-ba06-21e5d6a3b58e",
        "colab": {
          "base_uri": "https://localhost:8080/",
          "height": 153
        }
      },
      "source": [
        "numpy_array = onp.zeros((3,3), dtype=np.float32)\n",
        "print(\"original array:\")\n",
        "print(numpy_array)\n",
        "\n",
        "# In place, mutating update\n",
        "numpy_array[1, :] = 1.0\n",
        "print(\"updated array:\")\n",
        "print(numpy_array)"
      ],
      "execution_count": 0,
      "outputs": [
        {
          "output_type": "stream",
          "text": [
            "original array:\n",
            "[[0. 0. 0.]\n",
            " [0. 0. 0.]\n",
            " [0. 0. 0.]]\n",
            "updated array:\n",
            "[[0. 0. 0.]\n",
            " [1. 1. 1.]\n",
            " [0. 0. 0.]]\n"
          ],
          "name": "stdout"
        }
      ]
    },
    {
      "cell_type": "markdown",
      "metadata": {
        "id": "go3L4x3w4-9p",
        "colab_type": "text"
      },
      "source": [
        "If we try to update a JAX device array in-place, however, we get an __error__!  (☉_☉)"
      ]
    },
    {
      "cell_type": "code",
      "metadata": {
        "id": "2AxeCufq4wAp",
        "colab_type": "code",
        "outputId": "7013374b-041f-4270-db19-cfb4ab992f52",
        "colab": {
          "base_uri": "https://localhost:8080/",
          "height": 198
        }
      },
      "source": [
        "jax_array = np.zeros((3,3), dtype=np.float32)\n",
        "\n",
        "# In place update of JAX's array will yield an error!\n",
        "jax_array[1, :] = 1.0"
      ],
      "execution_count": 0,
      "outputs": [
        {
          "output_type": "error",
          "ename": "TypeError",
          "evalue": "ignored",
          "traceback": [
            "\u001b[0;31m---------------------------------------------------------------------------\u001b[0m",
            "\u001b[0;31mTypeError\u001b[0m                                 Traceback (most recent call last)",
            "\u001b[0;32m<ipython-input-189-a717a200f584>\u001b[0m in \u001b[0;36m<module>\u001b[0;34m()\u001b[0m\n\u001b[1;32m      2\u001b[0m \u001b[0;34m\u001b[0m\u001b[0m\n\u001b[1;32m      3\u001b[0m \u001b[0;31m# In place update of JAX's array will yield an error!\u001b[0m\u001b[0;34m\u001b[0m\u001b[0;34m\u001b[0m\u001b[0;34m\u001b[0m\u001b[0m\n\u001b[0;32m----> 4\u001b[0;31m \u001b[0mjax_array\u001b[0m\u001b[0;34m[\u001b[0m\u001b[0;36m1\u001b[0m\u001b[0;34m,\u001b[0m \u001b[0;34m:\u001b[0m\u001b[0;34m]\u001b[0m \u001b[0;34m=\u001b[0m \u001b[0;36m1.0\u001b[0m\u001b[0;34m\u001b[0m\u001b[0;34m\u001b[0m\u001b[0m\n\u001b[0m",
            "\u001b[0;31mTypeError\u001b[0m: '_FilledConstant' object does not support item assignment"
          ]
        }
      ]
    },
    {
      "cell_type": "markdown",
      "metadata": {
        "id": "7mo76sS25Wco",
        "colab_type": "text"
      },
      "source": [
        "__What gives?!__  \n",
        "\n",
        "Allowing mutation of variables in-place makes program analysis and transformation very difficult. JAX requires a pure functional expression of a numerical program.  \n",
        "\n",
        "Instead, JAX offers the _functional_ update functions: __index_update__, __index_add__, __index_min__, __index_max__, and the __index__ helper.\n",
        "\n",
        "__NB__:  _Fancy Indexing_ is __not__ yet supported, but will likely be added to JAX soon.\n",
        "\n",
        "️⚠️ inside `jit`'d code and `lax.while_loop` or `lax.fori_loop` the __size__ of slices can't be functions of argument _values_ but only functions of argument _shapes_ -- the slice start indices have no such restriction.  See the below __Control Flow__ Section for more information on this limitation."
      ]
    },
    {
      "cell_type": "code",
      "metadata": {
        "id": "m5lg1RYq5D9p",
        "colab_type": "code",
        "colab": {}
      },
      "source": [
        "from jax.ops import index, index_add, index_update"
      ],
      "execution_count": 0,
      "outputs": []
    },
    {
      "cell_type": "markdown",
      "metadata": {
        "id": "X2Xjjvd-l8NL",
        "colab_type": "text"
      },
      "source": [
        "## index_update"
      ]
    },
    {
      "cell_type": "markdown",
      "metadata": {
        "id": "eM6MyndXL2NY",
        "colab_type": "text"
      },
      "source": [
        "If the __input values__ of __index_update__ aren't reused, __jit__-compiled code will perform these operations _in-place_."
      ]
    },
    {
      "cell_type": "code",
      "metadata": {
        "id": "ygUJT49b7BBk",
        "colab_type": "code",
        "outputId": "c1dc7528-4a4a-4ee6-c9a2-c7e39f95ccb1",
        "colab": {
          "base_uri": "https://localhost:8080/",
          "height": 221
        }
      },
      "source": [
        "jax_array = np.zeros((3, 3))\n",
        "print(\"original array:\")\n",
        "print(jax_array)\n",
        "\n",
        "new_jax_array = index_update(jax_array, index[1, :], 1.)\n",
        "\n",
        "print(\"old array unchanged:\")\n",
        "print(jax_array)\n",
        "\n",
        "print(\"new array:\")\n",
        "print(new_jax_array)"
      ],
      "execution_count": 0,
      "outputs": [
        {
          "output_type": "stream",
          "text": [
            "original array:\n",
            "[[0. 0. 0.]\n",
            " [0. 0. 0.]\n",
            " [0. 0. 0.]]\n",
            "old array unchanged:\n",
            "[[0. 0. 0.]\n",
            " [0. 0. 0.]\n",
            " [0. 0. 0.]]\n",
            "new array:\n",
            "[[0. 0. 0.]\n",
            " [1. 1. 1.]\n",
            " [0. 0. 0.]]\n"
          ],
          "name": "stdout"
        }
      ]
    },
    {
      "cell_type": "markdown",
      "metadata": {
        "id": "7to-sF8EmC_y",
        "colab_type": "text"
      },
      "source": [
        "## index_add"
      ]
    },
    {
      "cell_type": "markdown",
      "metadata": {
        "id": "iI5cLY1xMBLs",
        "colab_type": "text"
      },
      "source": [
        "If the __input values__ of __index_update__ aren't reused, __jit__-compiled code will perform these operations _in-place_."
      ]
    },
    {
      "cell_type": "code",
      "metadata": {
        "id": "tsw2svao8FUp",
        "colab_type": "code",
        "outputId": "2492b20d-0b8e-4f61-816d-00b8a08ce29f",
        "colab": {
          "base_uri": "https://localhost:8080/",
          "height": 221
        }
      },
      "source": [
        "print(\"original array:\")\n",
        "jax_array = np.ones((5, 6))\n",
        "print(jax_array)\n",
        "\n",
        "new_jax_array = index_add(jax_array, index[::2, 3:], 7.)\n",
        "print(\"new array post-addition:\")\n",
        "print(new_jax_array)"
      ],
      "execution_count": 0,
      "outputs": [
        {
          "output_type": "stream",
          "text": [
            "original array:\n",
            "[[1. 1. 1. 1. 1. 1.]\n",
            " [1. 1. 1. 1. 1. 1.]\n",
            " [1. 1. 1. 1. 1. 1.]\n",
            " [1. 1. 1. 1. 1. 1.]\n",
            " [1. 1. 1. 1. 1. 1.]]\n",
            "new array post-addition:\n",
            "[[1. 1. 1. 8. 8. 8.]\n",
            " [1. 1. 1. 1. 1. 1.]\n",
            " [1. 1. 1. 8. 8. 8.]\n",
            " [1. 1. 1. 1. 1. 1.]\n",
            " [1. 1. 1. 8. 8. 8.]]\n"
          ],
          "name": "stdout"
        }
      ]
    },
    {
      "cell_type": "markdown",
      "metadata": {
        "id": "MUycRNh6e50W",
        "colab_type": "text"
      },
      "source": [
        "# 🔪 Random Numbers\n",
        "---"
      ]
    },
    {
      "cell_type": "markdown",
      "metadata": {
        "id": "O8vvaVt3MRG2",
        "colab_type": "text"
      },
      "source": [
        "> _If all scientific papers whose results are in doubt because of bad \n",
        "> `rand()`s were to disappear from library shelves, there would be a \n",
        "> gap on each shelf about as big as your fist._ - Numerical Recipes"
      ]
    },
    {
      "cell_type": "markdown",
      "metadata": {
        "id": "Qikt9pPW9L5K",
        "colab_type": "text"
      },
      "source": [
        "## RNGs and State\n",
        "You're used to _stateful_ pseudorandom number generators (PRNGs) from numpy and other libraries, which helpfully hide a lot of details under the hood to give you a ready fountain of pseudorandomness:"
      ]
    },
    {
      "cell_type": "code",
      "metadata": {
        "id": "rr9FeP41fynt",
        "colab_type": "code",
        "outputId": "180b7c87-7050-4123-dc42-2356da6f14a2",
        "colab": {
          "base_uri": "https://localhost:8080/",
          "height": 68
        }
      },
      "source": [
        "print(onp.random.random())\n",
        "print(onp.random.random())\n",
        "print(onp.random.random())"
      ],
      "execution_count": 0,
      "outputs": [
        {
          "output_type": "stream",
          "text": [
            "0.7117779558041075\n",
            "0.014396253746679077\n",
            "0.7717174868106601\n"
          ],
          "name": "stdout"
        }
      ]
    },
    {
      "cell_type": "markdown",
      "metadata": {
        "id": "ORMVVGZJgSVi",
        "colab_type": "text"
      },
      "source": [
        "Underneath the hood, numpy uses the [Mersenne Twister](https://en.wikipedia.org/wiki/Mersenne_Twister) PRNG to power its pseudorandom functions.  The PRNG has a period of $2^{19937-1}$ and at any point can be described by __624 32bit unsigned ints__ and a __position__ indicating how much of this  \"entropy\" has been used up."
      ]
    },
    {
      "cell_type": "code",
      "metadata": {
        "id": "7Pyp2ajzfPO2",
        "colab_type": "code",
        "colab": {}
      },
      "source": [
        "onp.random.seed(0)\n",
        "rng_state = onp.random.get_state()\n",
        "#print(rng_state)\n",
        "# --> ('MT19937', array([0, 1, 1812433255, 1900727105, 1208447044,\n",
        "#       2481403966, 4042607538,  337614300, ... 614 more numbers..., \n",
        "#       3048484911, 1796872496], dtype=uint32), 624, 0, 0.0)"
      ],
      "execution_count": 0,
      "outputs": []
    },
    {
      "cell_type": "markdown",
      "metadata": {
        "id": "aJIxHVXCiM6m",
        "colab_type": "text"
      },
      "source": [
        "This pseudorandom state vector is automagically updated behind the scenes every time a random number is needed, \"consuming\" 2 of the uint32s in the Mersenne twister state vector:"
      ]
    },
    {
      "cell_type": "code",
      "metadata": {
        "id": "GAHaDCYafpAF",
        "colab_type": "code",
        "colab": {}
      },
      "source": [
        "_ = onp.random.uniform()\n",
        "rng_state = onp.random.get_state()\n",
        "#print(rng_state) \n",
        "# --> ('MT19937', array([2443250962, 1093594115, 1878467924,\n",
        "#       ..., 2648828502, 1678096082], dtype=uint32), 2, 0, 0.0)\n",
        "\n",
        "# Let's exhaust the entropy in this PRNG statevector\n",
        "for i in range(311):\n",
        "  _ = onp.random.uniform()\n",
        "rng_state = onp.random.get_state()\n",
        "#print(rng_state) \n",
        "# --> ('MT19937', array([2443250962, 1093594115, 1878467924,\n",
        "#       ..., 2648828502, 1678096082], dtype=uint32), 624, 0, 0.0)\n",
        "\n",
        "# Next call iterates the RNG state for a new batch of fake \"entropy\".\n",
        "_ = onp.random.uniform()\n",
        "rng_state = onp.random.get_state()\n",
        "# print(rng_state) \n",
        "# --> ('MT19937', array([1499117434, 2949980591, 2242547484, \n",
        "#      4162027047, 3277342478], dtype=uint32), 2, 0, 0.0)"
      ],
      "execution_count": 0,
      "outputs": []
    },
    {
      "cell_type": "markdown",
      "metadata": {
        "id": "N_mWnleNogps",
        "colab_type": "text"
      },
      "source": [
        "The problem with magic PRNG state is that it's hard to reason about how it's being used and updated across different threads, processes, and devices, and it's _very easy_ to screw up when the details of entropy production and consumption are hidden from the end user.\n",
        "\n",
        "The Mersenne Twister PRNG is also known to have a [number](https://cs.stackexchange.com/a/53475) of problems, it has a large 2.5Kb state size, which leads to problematic [initialization issues](https://dl.acm.org/citation.cfm?id=1276928).  It [fails](http://www.pcg-random.org/pdf/toms-oneill-pcg-family-v1.02.pdf) modern BigCrush tests, and is generally slow. "
      ]
    },
    {
      "cell_type": "markdown",
      "metadata": {
        "id": "Uvq7nV-j4vKK",
        "colab_type": "text"
      },
      "source": [
        "## JAX PRNG"
      ]
    },
    {
      "cell_type": "markdown",
      "metadata": {
        "id": "COjzGBpO4tzL",
        "colab_type": "text"
      },
      "source": [
        "\n",
        "JAX instead implements an _explicit_ PRNG where entropy production and consumption are handled by explicitly passing and iterating PRNG state.  JAX uses a modern [Three-fry counter-based PRNG](https://github.com/google/jax/blob/master/design_notes/prng.md) that's __splittable__.  That is, its design allows us to __fork__ the PRNG state into new PRNGs for use with parallel stochastic generation.\n",
        "\n",
        "The random state is described by two unsigned-int32s that we call a __key__:"
      ]
    },
    {
      "cell_type": "code",
      "metadata": {
        "id": "yPHE7KTWgAWs",
        "colab_type": "code",
        "outputId": "6c2db189-d971-4d60-eb6b-c7ee3a4704b7",
        "colab": {
          "base_uri": "https://localhost:8080/",
          "height": 34
        }
      },
      "source": [
        "from jax import random\n",
        "key = random.PRNGKey(0)\n",
        "key"
      ],
      "execution_count": 0,
      "outputs": [
        {
          "output_type": "execute_result",
          "data": {
            "text/plain": [
              "array([0, 0], dtype=uint32)"
            ]
          },
          "metadata": {
            "tags": []
          },
          "execution_count": 196
        }
      ]
    },
    {
      "cell_type": "markdown",
      "metadata": {
        "id": "XjYyWYNfq0hW",
        "colab_type": "text"
      },
      "source": [
        "JAX's random functions produce pseudorandom numbers from the PRNG state, but __do not__ change the state!  \n",
        "\n",
        "Reusing the same state will cause __sadness__ and __monotony__, depriving the enduser of __lifegiving chaos__:"
      ]
    },
    {
      "cell_type": "code",
      "metadata": {
        "id": "7zUdQMynoE5e",
        "colab_type": "code",
        "outputId": "9e1e1f08-19c9-4d22-c78f-4d3e113e185d",
        "colab": {
          "base_uri": "https://localhost:8080/",
          "height": 85
        }
      },
      "source": [
        "print(random.normal(key, shape=(1,)))\n",
        "print(key)\n",
        "# No no no!\n",
        "print(random.normal(key, shape=(1,)))\n",
        "print(key)"
      ],
      "execution_count": 0,
      "outputs": [
        {
          "output_type": "stream",
          "text": [
            "[-0.20584233]\n",
            "[0 0]\n",
            "[-0.20584233]\n",
            "[0 0]\n"
          ],
          "name": "stdout"
        }
      ]
    },
    {
      "cell_type": "markdown",
      "metadata": {
        "id": "hQN9van8rJgd",
        "colab_type": "text"
      },
      "source": [
        "Instead, we __split__ the PRNG to get usable __subkeys__ every time we need a new pseudorandom number:"
      ]
    },
    {
      "cell_type": "code",
      "metadata": {
        "id": "ASj0_rSzqgGh",
        "colab_type": "code",
        "outputId": "ea3fae99-6642-4016-b0c0-938214384fe7",
        "colab": {
          "base_uri": "https://localhost:8080/",
          "height": 68
        }
      },
      "source": [
        "print(\"old key\", key)\n",
        "key, subkey = random.split(key)\n",
        "normal_pseudorandom = random.normal(subkey, shape=(1,))\n",
        "print(\"    \\---SPLIT --> new key   \", key)\n",
        "print(\"             \\--> new subkey\", subkey, \"--> normal\", normal_pseudorandom)"
      ],
      "execution_count": 0,
      "outputs": [
        {
          "output_type": "stream",
          "text": [
            "old key [0 0]\n",
            "    \\---SPLIT --> new key    [4146024105  967050713]\n",
            "             \\--> new subkey [2718843009 1272950319] --> normal [-1.2515389]\n"
          ],
          "name": "stdout"
        }
      ]
    },
    {
      "cell_type": "markdown",
      "metadata": {
        "id": "tqtFVE4MthO3",
        "colab_type": "text"
      },
      "source": [
        "We propagate the __key__ and make new __subkeys__ whenever we need a new random number:"
      ]
    },
    {
      "cell_type": "code",
      "metadata": {
        "id": "jbC34XLor2Ek",
        "colab_type": "code",
        "outputId": "436713d1-06a3-408e-fbaa-1fedeea73c73",
        "colab": {
          "base_uri": "https://localhost:8080/",
          "height": 68
        }
      },
      "source": [
        "print(\"old key\", key)\n",
        "key, subkey = random.split(key)\n",
        "normal_pseudorandom = random.normal(subkey, shape=(1,))\n",
        "print(\"    \\---SPLIT --> new key   \", key)\n",
        "print(\"             \\--> new subkey\", subkey, \"--> normal\", normal_pseudorandom)"
      ],
      "execution_count": 0,
      "outputs": [
        {
          "output_type": "stream",
          "text": [
            "old key [4146024105  967050713]\n",
            "    \\---SPLIT --> new key    [2384771982 3928867769]\n",
            "             \\--> new subkey [1278412471 2182328957] --> normal [-0.5866507]\n"
          ],
          "name": "stdout"
        }
      ]
    },
    {
      "cell_type": "markdown",
      "metadata": {
        "id": "0KLYUluz3lN3",
        "colab_type": "text"
      },
      "source": [
        "We can generate more than one __subkey__ at a time:"
      ]
    },
    {
      "cell_type": "code",
      "metadata": {
        "id": "lEi08PJ4tfkX",
        "colab_type": "code",
        "outputId": "7599b43d-930e-4c20-d549-b7694281a59a",
        "colab": {
          "base_uri": "https://localhost:8080/",
          "height": 68
        }
      },
      "source": [
        "key, *subkeys = random.split(key, 4)\n",
        "for subkey in subkeys:\n",
        "  print(random.normal(subkey, shape=(1,)))"
      ],
      "execution_count": 0,
      "outputs": [
        {
          "output_type": "stream",
          "text": [
            "[-0.37533447]\n",
            "[0.9864503]\n",
            "[0.1455319]\n"
          ],
          "name": "stdout"
        }
      ]
    },
    {
      "cell_type": "markdown",
      "metadata": {
        "id": "rg4CpMZ8c3ri",
        "colab_type": "text"
      },
      "source": [
        "# 🔪 Control Flow\n",
        "---"
      ]
    },
    {
      "cell_type": "markdown",
      "metadata": {
        "id": "izLTvT24dAq0",
        "colab_type": "text"
      },
      "source": [
        "✔ __python control_flow + autodiff__ ✔\n",
        "\n",
        "If you just want to apply `grad` to your python functions, you can use regular python control-flow constructs with no problems, as if you were using [Autograd](https://github.com/hips/autograd) (or Pytorch or TF Eager)."
      ]
    },
    {
      "cell_type": "code",
      "metadata": {
        "id": "aAx0T3F8lLtu",
        "colab_type": "code",
        "outputId": "1f75bb41-2d50-451e-c05d-cb946b580d8d",
        "colab": {
          "base_uri": "https://localhost:8080/",
          "height": 51
        }
      },
      "source": [
        "def f(x):\n",
        "  if x < 3:\n",
        "    return 3. * x ** 2\n",
        "  else:\n",
        "    return -4 * x\n",
        "\n",
        "print(grad(f)(2.))  # ok!\n",
        "print(grad(f)(4.))  # ok!"
      ],
      "execution_count": 0,
      "outputs": [
        {
          "output_type": "stream",
          "text": [
            "12.0\n",
            "-4.0\n"
          ],
          "name": "stdout"
        }
      ]
    },
    {
      "cell_type": "markdown",
      "metadata": {
        "id": "hIfPT7WMmZ2H",
        "colab_type": "text"
      },
      "source": [
        "__python control flow + JIT__\n",
        "\n",
        "Using control flow with `jit` is more complicated, and by default it has more constraints.\n",
        "\n",
        "This works:"
      ]
    },
    {
      "cell_type": "code",
      "metadata": {
        "id": "OZ_BJX0CplNC",
        "colab_type": "code",
        "outputId": "d75b0e66-273d-461a-814d-a95c40d41ef4",
        "colab": {
          "base_uri": "https://localhost:8080/",
          "height": 34
        }
      },
      "source": [
        "@jit\n",
        "def f(x):\n",
        "  for i in range(3):\n",
        "    x = 2 * x\n",
        "  return x\n",
        "\n",
        "print(f(3))"
      ],
      "execution_count": 0,
      "outputs": [
        {
          "output_type": "stream",
          "text": [
            "24\n"
          ],
          "name": "stdout"
        }
      ]
    },
    {
      "cell_type": "markdown",
      "metadata": {
        "id": "22RzeJ4QqAuX",
        "colab_type": "text"
      },
      "source": [
        "So does this:"
      ]
    },
    {
      "cell_type": "code",
      "metadata": {
        "id": "pinVnmRWp6w6",
        "colab_type": "code",
        "outputId": "f7829934-8cdd-4bba-b540-d9df38c71e95",
        "colab": {
          "base_uri": "https://localhost:8080/",
          "height": 34
        }
      },
      "source": [
        "@jit\n",
        "def g(x):\n",
        "  y = 0.\n",
        "  for i in range(x.shape[0]):\n",
        "    y = y + x[i]\n",
        "  return y\n",
        "\n",
        "print(g(np.array([1., 2., 3.])))"
      ],
      "execution_count": 0,
      "outputs": [
        {
          "output_type": "stream",
          "text": [
            "6.0\n"
          ],
          "name": "stdout"
        }
      ]
    },
    {
      "cell_type": "markdown",
      "metadata": {
        "id": "TStltU2dqf8A",
        "colab_type": "text"
      },
      "source": [
        "But this doesn't, at least by default:"
      ]
    },
    {
      "cell_type": "code",
      "metadata": {
        "id": "9z38AIKclRNM",
        "colab_type": "code",
        "outputId": "f911fb55-f489-4300-f9b1-9142d252f3f9",
        "colab": {
          "base_uri": "https://localhost:8080/",
          "height": 54
        }
      },
      "source": [
        "@jit\n",
        "def f(x):\n",
        "  if x < 3:\n",
        "    return 3. * x ** 2\n",
        "  else:\n",
        "    return -4 * x\n",
        "\n",
        "# This will fail!\n",
        "try:\n",
        "  f(2)\n",
        "except Exception as e:\n",
        "  print(\"ERROR:\", e)"
      ],
      "execution_count": 0,
      "outputs": [
        {
          "output_type": "stream",
          "text": [
            "ERROR: Abstract value passed to `bool`, which requires a concrete value. The function to be transformed can't be traced at the required level of abstraction. If using `jit`, try using `static_argnums` or applying `jit` to smaller subfunctions instead.\n"
          ],
          "name": "stdout"
        }
      ]
    },
    {
      "cell_type": "markdown",
      "metadata": {
        "id": "pIbr4TVPqtDN",
        "colab_type": "text"
      },
      "source": [
        "__What gives!?__\n",
        "\n",
        "When we `jit`-compile a function, we usually want to compile a version of the function that works for many different argument values, so that we can cache and reuse the compiled code. That way we don't have to re-compile on each function evaluation.\n",
        "\n",
        "For example, if we evaluate an `@jit` function on the array `np.array([1., 2., 3.], np.float32)`, we might want to compile code that we can reuse to evaluate the function on `np.array([4., 5., 6.], np.float32)` to save on compile time.\n",
        "\n",
        "To get a view of your Python code that is valid for many different argument values, JAX traces it on _abstract values_ that represent sets of possible inputs. There are [multiple different levels of abstraction](https://github.com/google/jax/blob/master/jax/abstract_arrays.py), and different transformations use different abstraction levels.\n",
        "\n",
        "By default, `jit` traces your code on the `ShapedArray` abstraction level, where each abstract value represents the set of all array values with a fixed shape and dtype. For example, if we trace using the abstract value `ShapedArray((3,), np.float32)`, we get a view of the function that can be reused for any concrete value in the corresponding set of arrays. That means we can save on compile time.\n",
        "\n",
        "But there's a tradeoff here: if we trace a Python function on a `ShapedArray((), np.float32)` that isn't committed to a specific concrete value, when we hit a line like `if x < 3`, the expression `x < 3` evaluates to an abstract `ShapedArray((), np.bool_)` that represents the set `{True, False}`. When Python attempts to coerce that to a concrete `True` or `False`, we get an error: we don't know which branch to take, and can't continue tracing! The tradeoff is that with higher levels of abstraction we gain a more general view of the Python code (and thus save on re-compilations), but we require more constraints on the Python code to complete the trace.\n",
        "\n",
        "The good news is that you can control this tradeoff yourself. By having `jit` trace on more refined abstract values, you can relax the traceability constraints. For example, using the `static_argnums` argument to `jit`, we can specify to trace on concrete values of some arguments. Here's that example function again:"
      ]
    },
    {
      "cell_type": "code",
      "metadata": {
        "id": "-Tzp0H7Bt1Sn",
        "colab_type": "code",
        "outputId": "1435a6a3-2b1c-4acd-be81-c1361021f3c4",
        "colab": {
          "base_uri": "https://localhost:8080/",
          "height": 34
        }
      },
      "source": [
        "def f(x):\n",
        "  if x < 3:\n",
        "    return 3. * x ** 2\n",
        "  else:\n",
        "    return -4 * x\n",
        "\n",
        "f = jit(f, static_argnums=(0,))\n",
        "\n",
        "print(f(2.))"
      ],
      "execution_count": 0,
      "outputs": [
        {
          "output_type": "stream",
          "text": [
            "12.0\n"
          ],
          "name": "stdout"
        }
      ]
    },
    {
      "cell_type": "markdown",
      "metadata": {
        "id": "MHm1hIQAvBVs",
        "colab_type": "text"
      },
      "source": [
        "Here's another example, this time involving a loop:"
      ]
    },
    {
      "cell_type": "code",
      "metadata": {
        "id": "iwY86_JKvD6b",
        "colab_type": "code",
        "outputId": "469a4aeb-2dbd-4f03-9aef-9fd646a717d7",
        "colab": {
          "base_uri": "https://localhost:8080/",
          "height": 34
        }
      },
      "source": [
        "def f(x, n):\n",
        "  y = 0.\n",
        "  for i in range(n):\n",
        "    y = y + x[i]\n",
        "  return y\n",
        "\n",
        "f = jit(f, static_argnums=(1,))\n",
        "\n",
        "f(np.array([2., 3., 4.]), 2)"
      ],
      "execution_count": 0,
      "outputs": [
        {
          "output_type": "execute_result",
          "data": {
            "text/plain": [
              "array(5., dtype=float32)"
            ]
          },
          "metadata": {
            "tags": []
          },
          "execution_count": 206
        }
      ]
    },
    {
      "cell_type": "markdown",
      "metadata": {
        "id": "nSPTOX8DvOeO",
        "colab_type": "text"
      },
      "source": [
        "In effect, the loop gets statically unrolled.  JAX can also trace at _higher_ levels of abstraction, like `Unshaped`, but that's not currently the default for any transformation"
      ]
    },
    {
      "cell_type": "markdown",
      "metadata": {
        "id": "wWdg8LTYwCW3",
        "colab_type": "text"
      },
      "source": [
        "️⚠️ **functions with argument-__value__ dependent shapes**\n",
        "\n",
        "These control-flow issues also come up in a more subtle way: numerical functions we want to __jit__ can't specialize the shapes of internal arrays on argument _values_ (specializing on argument __shapes__ is ok).  As a trivial example, let's make a function whose output happens to depend on the input variable `length`."
      ]
    },
    {
      "cell_type": "code",
      "metadata": {
        "id": "Tqe9uLmUI_Gv",
        "colab_type": "code",
        "outputId": "dbb43bac-8141-40a3-c760-95656181b598",
        "colab": {
          "base_uri": "https://localhost:8080/",
          "height": 85
        }
      },
      "source": [
        "def example_fun(length, val):\n",
        "  return np.ones((length,)) * val\n",
        "# un-jit'd works fine\n",
        "print(example_fun(5, 4))\n",
        "\n",
        "bad_example_jit = jit(example_fun)\n",
        "# this will fail:\n",
        "try:\n",
        "  print(bad_example_jit(10, 4))\n",
        "except Exception as e:\n",
        "  print(\"error!\", e)\n",
        "# static_argnums tells JAX to recompile on changes at these argument positions:\n",
        "good_example_jit = jit(example_fun, static_argnums=(0,))\n",
        "# first compile\n",
        "print(good_example_jit(10, 4))\n",
        "# recompiles\n",
        "print(good_example_jit(5, 4))"
      ],
      "execution_count": 0,
      "outputs": [
        {
          "output_type": "stream",
          "text": [
            "[4. 4. 4. 4. 4.]\n",
            "error! `full` requires shapes to be concrete. If using `jit`, try using `static_argnums` or applying `jit` to smaller subfunctions instead.\n",
            "[4. 4. 4. 4. 4. 4. 4. 4. 4. 4.]\n",
            "[4. 4. 4. 4. 4.]\n"
          ],
          "name": "stdout"
        }
      ]
    },
    {
      "cell_type": "markdown",
      "metadata": {
        "id": "MStx_r2oKxpp",
        "colab_type": "text"
      },
      "source": [
        "`static_argnums` can be handy if `length` in our example rarely changes, but it would be disastrous if it changed a lot!  \n",
        "\n",
        "Lastly, if your function has global side-effects, JAX's tracer can cause weird things to happen. A common gotcha is trying to print arrays inside __jit__'d functions: "
      ]
    },
    {
      "cell_type": "code",
      "metadata": {
        "id": "m2ABpRd8K094",
        "colab_type": "code",
        "outputId": "06fe7d4e-2c59-4499-c04e-94166916be74",
        "colab": {
          "base_uri": "https://localhost:8080/",
          "height": 68
        }
      },
      "source": [
        "@jit\n",
        "def f(x):\n",
        "  print(x)\n",
        "  y = 2 * x\n",
        "  print(y)\n",
        "  return y\n",
        "f(2)"
      ],
      "execution_count": 0,
      "outputs": [
        {
          "output_type": "stream",
          "text": [
            "Traced<ShapedArray(int32[]):JaxprTrace(level=-1/1)>\n",
            "Traced<ShapedArray(int32[]):JaxprTrace(level=-1/1)>\n"
          ],
          "name": "stdout"
        },
        {
          "output_type": "execute_result",
          "data": {
            "text/plain": [
              "array(4, dtype=int32)"
            ]
          },
          "metadata": {
            "tags": []
          },
          "execution_count": 12
        }
      ]
    },
    {
      "cell_type": "markdown",
      "metadata": {
        "id": "uCDcWG4MnVn-",
        "colab_type": "text"
      },
      "source": [
        "## Structured control flow primitives\n",
        "\n",
        "There are more options for control flow in JAX. Say you want to avoid re-compilations but still want to use control flow that's traceable, and that avoids un-rolling large loops. then you can use these 4 structured control flow primitives:\n",
        " - `lax.cond`  _will be differentiable soon_\n",
        " - `lax.while_loop` __non-differentiable__*\n",
        " - `lax.fori_loop` __non-differentiable__*\n",
        " - `lax.scan` _will be differentiable soon_\n",
        "\n",
        "*_these can in principle be made to be __forward__-differentiable, but this isn't on the current roadmap._"
      ]
    },
    {
      "cell_type": "markdown",
      "metadata": {
        "id": "Sd9xrLMXeK3A",
        "colab_type": "text"
      },
      "source": [
        "## cond\n",
        "python equivalent:\n",
        "\n",
        "```\n",
        "def cond(pred, true_operand, true_fun, false_operand, false_fun):\n",
        "  if pred:\n",
        "    return true_fun(true_operand)\n",
        "  else:\n",
        "    return false_fun(false_operand)\n",
        "```"
      ]
    },
    {
      "cell_type": "code",
      "metadata": {
        "id": "SGxz9JOWeiyH",
        "colab_type": "code",
        "outputId": "b91c6e01-c3a7-41a0-b4d2-f815f273c8a7",
        "colab": {
          "base_uri": "https://localhost:8080/",
          "height": 34
        }
      },
      "source": [
        "from jax import lax\n",
        "\n",
        "operand = np.array([0.])\n",
        "lax.cond(True, operand, lambda x: x+1, operand, lambda x: x-1)\n",
        "# --> array([1.], dtype=float32)\n",
        "lax.cond(False, operand, lambda x: x+1, operand, lambda x: x-1)\n",
        "# --> array([-1.], dtype=float32)"
      ],
      "execution_count": 0,
      "outputs": [
        {
          "output_type": "execute_result",
          "data": {
            "text/plain": [
              "array([-1.], dtype=float32)"
            ]
          },
          "metadata": {
            "tags": []
          },
          "execution_count": 207
        }
      ]
    },
    {
      "cell_type": "markdown",
      "metadata": {
        "id": "xkOFAw24eOMg",
        "colab_type": "text"
      },
      "source": [
        "## while_loop\n",
        "\n",
        "python equivalent:\n",
        "```\n",
        "def while_loop(cond_fun, body_fun, init_val):\n",
        "  val = init_val\n",
        "  while cond_fun(val):\n",
        "    val = body_fun(val)\n",
        "  return val\n",
        "```"
      ]
    },
    {
      "cell_type": "code",
      "metadata": {
        "id": "jM-D39a-c436",
        "colab_type": "code",
        "outputId": "496ba1d8-e1d9-4432-d44b-c1104e1e966d",
        "colab": {
          "base_uri": "https://localhost:8080/",
          "height": 34
        }
      },
      "source": [
        "init_val = 0\n",
        "cond_fun = lambda x: x<10\n",
        "body_fun = lambda x: x+1\n",
        "lax.while_loop(cond_fun, body_fun, init_val)\n",
        "# --> array(10, dtype=int32)"
      ],
      "execution_count": 0,
      "outputs": [
        {
          "output_type": "execute_result",
          "data": {
            "text/plain": [
              "array(10, dtype=int32)"
            ]
          },
          "metadata": {
            "tags": []
          },
          "execution_count": 208
        }
      ]
    },
    {
      "cell_type": "markdown",
      "metadata": {
        "id": "apo3n3HAeQY_",
        "colab_type": "text"
      },
      "source": [
        "## fori_loop\n",
        "python equivalent:\n",
        "```\n",
        "def fori_loop(start, stop, body_fun, init_val):\n",
        "  val = init_val\n",
        "  for i in range(start, stop):\n",
        "    val = body_fun(i, val)\n",
        "  return val\n",
        "```"
      ]
    },
    {
      "cell_type": "code",
      "metadata": {
        "id": "dt3tUpOmeR8u",
        "colab_type": "code",
        "outputId": "3155b3ce-589c-437c-a456-de81b3db0a64",
        "colab": {
          "base_uri": "https://localhost:8080/",
          "height": 34
        }
      },
      "source": [
        "init_val = 0\n",
        "start = 0\n",
        "stop = 10\n",
        "body_fun = lambda i,x: x+i\n",
        "lax.fori_loop(start, stop, body_fun, init_val)\n",
        "# --> array(45, dtype=int32)"
      ],
      "execution_count": 0,
      "outputs": [
        {
          "output_type": "execute_result",
          "data": {
            "text/plain": [
              "array(45, dtype=int32)"
            ]
          },
          "metadata": {
            "tags": []
          },
          "execution_count": 209
        }
      ]
    },
    {
      "cell_type": "markdown",
      "metadata": {
        "id": "SipXS5qiqk8e",
        "colab_type": "text"
      },
      "source": [
        "## Summary\n",
        "\n",
        "$$\n",
        "\\begin{array} {r|rr} \n",
        "\\hline \\\n",
        "\\textrm{construct} \n",
        "& \\textrm{jit} \n",
        "& \\textrm{grad} \\\\\n",
        "\\hline \\\n",
        "\\textrm{if} & ❌ & ✔ \\\\\n",
        "\\textrm{for} & ✔* & ✔\\\\\n",
        "\\textrm{while} & ✔* & ✔\\\\\n",
        "\\textrm{lax.cond} & ✔ & \\textrm{soon!}\\\\\n",
        "\\textrm{lax.while_loop} & ✔ & ❌\\\\\n",
        "\\textrm{lax.fori_loop} & ✔ & ❌\\\\\n",
        "\\textrm{lax.scan} & \\textrm{soon!} & \\textrm{soon!}\\\\\n",
        "\\hline\n",
        "\\end{array}\n",
        "$$\n",
        "<center>* = argument-__value__-independent loop condition - unrolls the loop </center>"
      ]
    },
    {
      "cell_type": "markdown",
      "metadata": {
        "id": "bxuUjFVG-v1h",
        "colab_type": "text"
      },
      "source": [
        "# 🔪 Convolutions\n",
        "---"
      ]
    },
    {
      "cell_type": "markdown",
      "metadata": {
        "id": "0pcn2LeS-03b",
        "colab_type": "text"
      },
      "source": [
        "JAX and XLA offer the very general N-dimensional __conv_general_dilated__ function, but it's not very obvious how to use it.  We'll give some examples of the common use-cases.  There are also the convenience functions `lax.conv` and `lax.conv_general_padding` for the most common kinds of convolutions.\n",
        "\n",
        "A survey of the family of convolutional operators, [a guide to convolutional arithmetic](https://arxiv.org/abs/1603.07285) is highly recommended reading!\n",
        "\n",
        "Let's define a simple diagonal edge kernel:"
      ]
    },
    {
      "cell_type": "code",
      "metadata": {
        "id": "Yud1Y3ss-x1K",
        "colab_type": "code",
        "outputId": "1674482b-501a-43eb-91c6-0bef42a73d6d",
        "colab": {
          "base_uri": "https://localhost:8080/",
          "height": 286
        }
      },
      "source": [
        "# 2D kernel - HWIO layout\n",
        "kernel = onp.zeros((3, 3, 3, 3), dtype=np.float32)\n",
        "kernel += onp.array([[1, 1, 0],\n",
        "                [1, 0,-1],\n",
        "                [0,-1,-1]])[:, :, onp.newaxis, onp.newaxis]\n",
        "\n",
        "print(\"Edge Conv kernel:\")\n",
        "plt.imshow(kernel[:, :, 0, 0]);"
      ],
      "execution_count": 0,
      "outputs": [
        {
          "output_type": "stream",
          "text": [
            "Edge Conv kernel:\n"
          ],
          "name": "stdout"
        },
        {
          "output_type": "display_data",
          "data": {
            "image/png": "[encoded data removed]",
            "text/plain": [
              "<Figure size 432x288 with 1 Axes>"
            ]
          },
          "metadata": {
            "tags": []
          }
        }
      ]
    },
    {
      "cell_type": "markdown",
      "metadata": {
        "id": "dITPaPdh_cMI",
        "colab_type": "text"
      },
      "source": [
        "And we'll make a simple synthetic image:"
      ]
    },
    {
      "cell_type": "code",
      "metadata": {
        "id": "cpbGsIGa_Qyx",
        "colab_type": "code",
        "outputId": "44f0c042-3c74-4f39-9ed2-cd651cbc13fc",
        "colab": {
          "base_uri": "https://localhost:8080/",
          "height": 286
        }
      },
      "source": [
        "# NHWC layout\n",
        "img = onp.zeros((1, 200, 198, 3), dtype=np.float32)\n",
        "for k in range(3):\n",
        "    x = 30 + 60*k\n",
        "    y = 20 + 60*k\n",
        "    img[0, x:x+10, y:y+10, k] = 1.0\n",
        "\n",
        "print(\"Original Image:\")\n",
        "plt.imshow(img[0]);"
      ],
      "execution_count": 0,
      "outputs": [
        {
          "output_type": "stream",
          "text": [
            "Original Image:\n"
          ],
          "name": "stdout"
        },
        {
          "output_type": "display_data",
          "data": {
            "image/png": "[encoded data removed]",
            "text/plain": [
              "<Figure size 432x288 with 1 Axes>"
            ]
          },
          "metadata": {
            "tags": []
          }
        }
      ]
    },
    {
      "cell_type": "markdown",
      "metadata": {
        "id": "_m90y74OWorG",
        "colab_type": "text"
      },
      "source": [
        "## lax.conv and lax.conv_with_general_padding"
      ]
    },
    {
      "cell_type": "markdown",
      "metadata": {
        "id": "Pv9_QPDnWssM",
        "colab_type": "text"
      },
      "source": [
        "These are the simple convenience functions for convolutions\n",
        "\n",
        "️⚠️ The convenience `lax.conv`, `lax.conv_with_general_padding` helper function assume __NCHW__ images and __IOHW__ kernels."
      ]
    },
    {
      "cell_type": "code",
      "metadata": {
        "id": "kppxbxpZW0nb",
        "colab_type": "code",
        "outputId": "2c872f2b-b71a-4821-d870-0b3a4f1eeee9",
        "colab": {
          "base_uri": "https://localhost:8080/",
          "height": 629
        }
      },
      "source": [
        "out = lax.conv(np.transpose(img,[0,3,1,2]),    # lhs = NCHW image tensor\n",
        "               np.transpose(kernel,[2,3,0,1]), # rhs = IOHW conv kernel tensor\n",
        "               (1, 1),  # window strides\n",
        "               'SAME') # padding mode\n",
        "print(\"out shape: \", out.shape)\n",
        "print(\"First output channel:\")\n",
        "plt.figure(figsize=(10,10))\n",
        "plt.imshow(onp.array(out)[0,0,:,:]);"
      ],
      "execution_count": 0,
      "outputs": [
        {
          "output_type": "stream",
          "text": [
            "out shape:  (1, 3, 200, 198)\n",
            "First output channel:\n"
          ],
          "name": "stdout"
        },
        {
          "output_type": "display_data",
          "data": {
            "image/png": "[encoded data removed]",
            "text/plain": [
              "<Figure size 720x720 with 1 Axes>"
            ]
          },
          "metadata": {
            "tags": []
          }
        }
      ]
    },
    {
      "cell_type": "code",
      "metadata": {
        "id": "aonr1tWvYCW9",
        "colab_type": "code",
        "outputId": "63727dd7-1758-4aa0-f93f-557758a160a8",
        "colab": {
          "base_uri": "https://localhost:8080/",
          "height": 629
        }
      },
      "source": [
        "out = lax.conv_with_general_padding(\n",
        "  np.transpose(img,[0,3,1,2]),    # lhs = NCHW image tensor\n",
        "  np.transpose(kernel,[2,3,0,1]), # rhs = IOHW conv kernel tensor\n",
        "  (1, 1),  # window strides\n",
        "  ((2,2),(2,2)), # general padding 2x2\n",
        "  (1,1),  # lhs/image dilation\n",
        "  (1,1))  # rhs/kernel dilation\n",
        "print(\"out shape: \", out.shape)\n",
        "print(\"First output channel:\")\n",
        "plt.figure(figsize=(10,10))\n",
        "plt.imshow(onp.array(out)[0,0,:,:]);"
      ],
      "execution_count": 0,
      "outputs": [
        {
          "output_type": "stream",
          "text": [
            "out shape:  (1, 3, 202, 200)\n",
            "First output channel:\n"
          ],
          "name": "stdout"
        },
        {
          "output_type": "display_data",
          "data": {
            "image/png": "[encoded data removed]",
            "text/plain": [
              "<Figure size 720x720 with 1 Axes>"
            ]
          },
          "metadata": {
            "tags": []
          }
        }
      ]
    },
    {
      "cell_type": "markdown",
      "metadata": {
        "id": "lyOwGRez_ycJ",
        "colab_type": "text"
      },
      "source": [
        "## Dimension Numbers define dimensional layout for conv_general_dilated\n",
        "\n",
        "The important argument is the 3-tuple of axis layout arguments:\n",
        "(Input Layout, Kernel Layout, Output Layout)\n",
        " - __N__ - batch dimension\n",
        " - __H__ - spatial height\n",
        " - __W__ - spatial height\n",
        " - __C__ - channel dimension\n",
        " - __I__ - kernel _input_ channel dimension\n",
        " - __O__ - kernel _output_ channel dimension\n",
        "\n",
        "⚠️ To demonstrate the flexibility of dimension numbers we choose a __NHWC__ image and __HWIO__ kernel convention for `lax.conv_general_dilated` below."
      ]
    },
    {
      "cell_type": "code",
      "metadata": {
        "id": "oXKebfCb_i2B",
        "colab_type": "code",
        "outputId": "0b80fca6-0eb7-4baf-d824-458c3739d052",
        "colab": {
          "base_uri": "https://localhost:8080/",
          "height": 34
        }
      },
      "source": [
        "dn = lax.conv_dimension_numbers(img.shape,     # only ndim matters, not shape\n",
        "                                kernel.shape,  # only ndim matters, not shape \n",
        "                                ('NHWC', 'HWIO', 'NHWC'))  # the important bit\n",
        "print(dn)"
      ],
      "execution_count": 0,
      "outputs": [
        {
          "output_type": "stream",
          "text": [
            "ConvDimensionNumbers(lhs_spec=(0, 3, 1, 2), rhs_spec=(3, 2, 0, 1), out_spec=(0, 3, 1, 2))\n"
          ],
          "name": "stdout"
        }
      ]
    },
    {
      "cell_type": "markdown",
      "metadata": {
        "id": "elZys_HzFVG6",
        "colab_type": "text"
      },
      "source": [
        "## SAME padding, no stride, no dilation"
      ]
    },
    {
      "cell_type": "code",
      "metadata": {
        "id": "rgb2T15aFVG6",
        "colab_type": "code",
        "outputId": "93fed3a7-69d2-4046-de2f-487ff34b5ee2",
        "colab": {
          "base_uri": "https://localhost:8080/",
          "height": 629
        }
      },
      "source": [
        "out = lax.conv_general_dilated(img,    # lhs = image tensor\n",
        "                               kernel, # rhs = conv kernel tensor\n",
        "                               (1,1),  # window strides\n",
        "                               'SAME', # padding mode\n",
        "                               (1,1),  # lhs/image dilation\n",
        "                               (1,1),  # rhs/kernel dilation\n",
        "                               dn)     # dimension_numbers = lhs, rhs, out dimension permutation\n",
        "print(\"out shape: \", out.shape)\n",
        "print(\"First output channel:\")\n",
        "plt.figure(figsize=(10,10))\n",
        "plt.imshow(onp.array(out)[0,:,:,0]);"
      ],
      "execution_count": 0,
      "outputs": [
        {
          "output_type": "stream",
          "text": [
            "out shape:  (1, 200, 198, 3)\n",
            "First output channel:\n"
          ],
          "name": "stdout"
        },
        {
          "output_type": "display_data",
          "data": {
            "image/png": "[encoded data removed]",
            "text/plain": [
              "<Figure size 720x720 with 1 Axes>"
            ]
          },
          "metadata": {
            "tags": []
          }
        }
      ]
    },
    {
      "cell_type": "markdown",
      "metadata": {
        "id": "E4i3TI5JFVG9",
        "colab_type": "text"
      },
      "source": [
        "## VALID padding, no stride, no dilation"
      ]
    },
    {
      "cell_type": "code",
      "metadata": {
        "id": "1HQwudKVFVG-",
        "colab_type": "code",
        "outputId": "9edf1704-b920-4666-8a49-2db7dd622fd1",
        "colab": {
          "base_uri": "https://localhost:8080/",
          "height": 629
        }
      },
      "source": [
        "out = lax.conv_general_dilated(img,     # lhs = image tensor\n",
        "                               kernel,  # rhs = conv kernel tensor\n",
        "                               (1,1),   # window strides\n",
        "                               'VALID', # padding mode\n",
        "                               (1,1),   # lhs/image dilation\n",
        "                               (1,1),   # rhs/kernel dilation\n",
        "                               dn)      # dimension_numbers = lhs, rhs, out dimension permutation\n",
        "print(\"out shape: \", out.shape, \"DIFFERENT from above!\")\n",
        "print(\"First output channel:\")\n",
        "plt.figure(figsize=(10,10))\n",
        "plt.imshow(onp.array(out)[0,:,:,0]);"
      ],
      "execution_count": 0,
      "outputs": [
        {
          "output_type": "stream",
          "text": [
            "out shape:  (1, 198, 196, 3) DIFFERENT from above!\n",
            "First output channel:\n"
          ],
          "name": "stdout"
        },
        {
          "output_type": "display_data",
          "data": {
            "image/png": "[encoded data removed]",
            "text/plain": [
              "<Figure size 720x720 with 1 Axes>"
            ]
          },
          "metadata": {
            "tags": []
          }
        }
      ]
    },
    {
      "cell_type": "markdown",
      "metadata": {
        "id": "VYKZdqLIFVHB",
        "colab_type": "text"
      },
      "source": [
        "## SAME padding, 2,2 stride, no dilation"
      ]
    },
    {
      "cell_type": "code",
      "metadata": {
        "id": "mKq2-zmmFVHC",
        "colab_type": "code",
        "outputId": "73b80162-fdca-4f6a-ec06-4645d6fdc9f6",
        "colab": {
          "base_uri": "https://localhost:8080/",
          "height": 629
        }
      },
      "source": [
        "out = lax.conv_general_dilated(img,    # lhs = image tensor\n",
        "                               kernel, # rhs = conv kernel tensor\n",
        "                               (2,2),  # window strides\n",
        "                               'SAME', # padding mode\n",
        "                               (1,1),  # lhs/image dilation\n",
        "                               (1,1),  # rhs/kernel dilation\n",
        "                               dn)     # dimension_numbers = lhs, rhs, out dimension permutation\n",
        "print(\"out shape: \", out.shape, \" <-- half the size of above\")\n",
        "plt.figure(figsize=(10,10))\n",
        "print(\"First output channel:\")\n",
        "plt.imshow(onp.array(out)[0,:,:,0]);"
      ],
      "execution_count": 0,
      "outputs": [
        {
          "output_type": "stream",
          "text": [
            "out shape:  (1, 100, 99, 3)  <-- half the size of above\n",
            "First output channel:\n"
          ],
          "name": "stdout"
        },
        {
          "output_type": "display_data",
          "data": {
            "image/png": "[encoded data removed]",
            "text/plain": [
              "<Figure size 720x720 with 1 Axes>"
            ]
          },
          "metadata": {
            "tags": []
          }
        }
      ]
    },
    {
      "cell_type": "markdown",
      "metadata": {
        "id": "gPxttaiaFVHE",
        "colab_type": "text"
      },
      "source": [
        "## VALID padding, no stride, rhs kernel dilation ~ Atrous convolution (excessive to illustrate)"
      ]
    },
    {
      "cell_type": "code",
      "metadata": {
        "id": "_pGr0x6qFVHF",
        "colab_type": "code",
        "outputId": "a0f489eb-bab7-42c4-c030-fb756f63a4a4",
        "colab": {
          "base_uri": "https://localhost:8080/",
          "height": 629
        }
      },
      "source": [
        "out = lax.conv_general_dilated(img,     # lhs = image tensor\n",
        "                               kernel,  # rhs = conv kernel tensor\n",
        "                               (1,1),   # window strides\n",
        "                               'VALID', # padding mode\n",
        "                               (1,1),   # lhs/image dilation\n",
        "                               (12,12), # rhs/kernel dilation\n",
        "                               dn)      # dimension_numbers = lhs, rhs, out dimension permutation\n",
        "print(\"out shape: \", out.shape)\n",
        "plt.figure(figsize=(10,10))\n",
        "print(\"First output channel:\")\n",
        "plt.imshow(onp.array(out)[0,:,:,0]);"
      ],
      "execution_count": 0,
      "outputs": [
        {
          "output_type": "stream",
          "text": [
            "out shape:  (1, 176, 174, 3)\n",
            "First output channel:\n"
          ],
          "name": "stdout"
        },
        {
          "output_type": "display_data",
          "data": {
            "image/png": "[encoded data removed]",
            "text/plain": [
              "<Figure size 720x720 with 1 Axes>"
            ]
          },
          "metadata": {
            "tags": []
          }
        }
      ]
    },
    {
      "cell_type": "markdown",
      "metadata": {
        "id": "v-RhEeUfFVHI",
        "colab_type": "text"
      },
      "source": [
        "## VALID padding, no stride, lhs=input dilation  ~ Transposed Convolution"
      ]
    },
    {
      "cell_type": "code",
      "metadata": {
        "id": "B9Ail8ppFVHJ",
        "colab_type": "code",
        "outputId": "03d00b5a-ec38-435a-81f7-79d4737239c0",
        "colab": {
          "base_uri": "https://localhost:8080/",
          "height": 629
        }
      },
      "source": [
        "out = lax.conv_general_dilated(img,     # lhs = image tensor\n",
        "                               kernel,  # rhs = conv kernel tensor\n",
        "                               (1,1),   # window strides\n",
        "                               'SAME',  # padding mode\n",
        "                               (2,2),   # lhs/image dilation\n",
        "                               (1,1),   # rhs/kernel dilation\n",
        "                               dn)      # dimension_numbers = lhs, rhs, out dimension permutation\n",
        "print(\"out shape: \", out.shape, \"<-- larger than original!\")\n",
        "plt.figure(figsize=(10,10))\n",
        "print(\"First output channel:\")\n",
        "plt.imshow(onp.array(out)[0,:,:,0]);"
      ],
      "execution_count": 0,
      "outputs": [
        {
          "output_type": "stream",
          "text": [
            "out shape:  (1, 399, 395, 3) <-- larger than original!\n",
            "First output channel:\n"
          ],
          "name": "stdout"
        },
        {
          "output_type": "display_data",
          "data": {
            "image/png": "[encoded data removed]",
            "text/plain": [
              "<Figure size 720x720 with 1 Axes>"
            ]
          },
          "metadata": {
            "tags": []
          }
        }
      ]
    },
    {
      "cell_type": "markdown",
      "metadata": {
        "id": "A-9OagtrVDyV",
        "colab_type": "text"
      },
      "source": [
        "We can use the last to, for instance, implement _transposed convolutions_:"
      ]
    },
    {
      "cell_type": "code",
      "metadata": {
        "id": "5EYIj77-NdHE",
        "colab_type": "code",
        "outputId": "d2e82a42-9c8e-4973-f760-511a14805527",
        "colab": {
          "base_uri": "https://localhost:8080/",
          "height": 629
        }
      },
      "source": [
        "# The following is equivalent to tensorflow:\n",
        "# N,H,W,C = img.shape\n",
        "# out = tf.nn.conv2d_transpose(img, kernel, (N,2*H,2*W,C), (1,2,2,1))\n",
        "\n",
        "# transposed conv = 180deg kernel roation plus LHS dilation\n",
        "# rotate kernel 180deg:\n",
        "kernel_rot = np.rot90(np.rot90(kernel, axes=(0,1)), axes=(0,1))\n",
        "# need a custom output padding:\n",
        "padding = ((2, 1), (2, 1))\n",
        "out = lax.conv_general_dilated(img,     # lhs = image tensor\n",
        "                               kernel_rot,  # rhs = conv kernel tensor\n",
        "                               (1,1),   # window strides\n",
        "                               padding, # padding mode\n",
        "                               (2,2),   # lhs/image dilation\n",
        "                               (1,1),   # rhs/kernel dilation\n",
        "                               dn)      # dimension_numbers = lhs, rhs, out dimension permutation\n",
        "print(\"out shape: \", out.shape, \"<-- transposed_conv\")\n",
        "plt.figure(figsize=(10,10))\n",
        "print(\"First output channel:\")\n",
        "plt.imshow(onp.array(out)[0,:,:,0]);"
      ],
      "execution_count": 0,
      "outputs": [
        {
          "output_type": "stream",
          "text": [
            "out shape:  (1, 400, 396, 3) <-- transposed_conv\n",
            "First output channel:\n"
          ],
          "name": "stdout"
        },
        {
          "output_type": "display_data",
          "data": {
            "image/png": "[encoded data removed]",
            "text/plain": [
              "<Figure size 720x720 with 1 Axes>"
            ]
          },
          "metadata": {
            "tags": []
          }
        }
      ]
    },
    {
      "cell_type": "markdown",
      "metadata": {
        "id": "v8HsE-NCmUxx",
        "colab_type": "text"
      },
      "source": [
        "## 1D Convolutions"
      ]
    },
    {
      "cell_type": "markdown",
      "metadata": {
        "id": "WeP0rw0tm7HK",
        "colab_type": "text"
      },
      "source": [
        "You aren't limited to 2D convolutions, a simple 1D demo is below:"
      ]
    },
    {
      "cell_type": "code",
      "metadata": {
        "id": "jJ-jcAn3cig-",
        "colab_type": "code",
        "outputId": "614ed589-e097-4bfe-f596-3421e3492698",
        "colab": {
          "base_uri": "https://localhost:8080/",
          "height": 680
        }
      },
      "source": [
        "# 1D kernel - WIO layout\n",
        "kernel = onp.array([[[1, 0, -1], [-1,  0,  1]], \n",
        "                    [[1, 1,  1], [-1, -1, -1]]], \n",
        "                    dtype=np.float32).transpose([2,1,0])\n",
        "# 1D data - NWC layout\n",
        "data = onp.zeros((1, 200, 2), dtype=np.float32)\n",
        "for i in range(2):\n",
        "  for k in range(2):\n",
        "      x = 35*i + 30 + 60*k\n",
        "      data[0, x:x+30, k] = 1.0\n",
        "\n",
        "print(\"in shapes:\", data.shape, kernel.shape)\n",
        "\n",
        "plt.figure(figsize=(10,5))\n",
        "plt.plot(data[0]);\n",
        "dn = lax.conv_dimension_numbers(data.shape, kernel.shape,\n",
        "                                ('NWC', 'WIO', 'NWC'))\n",
        "print(dn)\n",
        "\n",
        "out = lax.conv_general_dilated(data,   # lhs = image tensor\n",
        "                               kernel, # rhs = conv kernel tensor\n",
        "                               (1,),   # window strides\n",
        "                               'SAME', # padding mode\n",
        "                               (1,),   # lhs/image dilation\n",
        "                               (1,),   # rhs/kernel dilation\n",
        "                               dn)     # dimension_numbers = lhs, rhs, out dimension permutation\n",
        "print(\"out shape: \", out.shape)\n",
        "plt.figure(figsize=(10,5))\n",
        "plt.plot(out[0]);"
      ],
      "execution_count": 0,
      "outputs": [
        {
          "output_type": "stream",
          "text": [
            "in shapes: (1, 200, 2) (3, 2, 2)\n",
            "ConvDimensionNumbers(lhs_spec=(0, 2, 1), rhs_spec=(2, 1, 0), out_spec=(0, 2, 1))\n",
            "out shape:  (1, 200, 2)\n"
          ],
          "name": "stdout"
        },
        {
          "output_type": "display_data",
          "data": {
            "image/png": "[encoded data removed]",
            "text/plain": [
              "<Figure size 720x360 with 1 Axes>"
            ]
          },
          "metadata": {
            "tags": []
          }
        },
        {
          "output_type": "display_data",
          "data": {
            "image/png": "[encoded data removed]",
            "text/plain": [
              "<Figure size 720x360 with 1 Axes>"
            ]
          },
          "metadata": {
            "tags": []
          }
        }
      ]
    },
    {
      "cell_type": "markdown",
      "metadata": {
        "id": "7XOgXqCTmaPa",
        "colab_type": "text"
      },
      "source": [
        "## 3D Convolutions"
      ]
    },
    {
      "cell_type": "code",
      "metadata": {
        "id": "QNvSiq5-mcLd",
        "colab_type": "code",
        "outputId": "eecbad0f-f443-43c1-83d6-f8fba22c7383",
        "colab": {
          "base_uri": "https://localhost:8080/",
          "height": 530
        }
      },
      "source": [
        "# Random 3D kernel - HWDIO layout\n",
        "kernel = onp.array([\n",
        "  [[0, 0,  0], [0,  1,  0], [0,  0,   0]],\n",
        "  [[0, -1, 0], [-1, 0, -1], [0,  -1,  0]], \n",
        "  [[0, 0,  0], [0,  1,  0], [0,  0,   0]]], \n",
        "  dtype=np.float32)[:, :, :, onp.newaxis, onp.newaxis]\n",
        "\n",
        "# 3D data - NHWDC layout\n",
        "data = onp.zeros((1, 30, 30, 30, 1), dtype=np.float32)\n",
        "x, y, z = onp.mgrid[0:1:30j, 0:1:30j, 0:1:30j]\n",
        "data += (onp.sin(2*x*np.pi)*onp.cos(2*y*np.pi)*onp.cos(2*z*np.pi))[None,:,:,:,None]\n",
        "\n",
        "print(\"in shapes:\", data.shape, kernel.shape)\n",
        "dn = lax.conv_dimension_numbers(data.shape, kernel.shape,\n",
        "                                ('NHWDC', 'HWDIO', 'NHWDC'))\n",
        "print(dn)\n",
        "\n",
        "out = lax.conv_general_dilated(data,    # lhs = image tensor\n",
        "                               kernel,  # rhs = conv kernel tensor\n",
        "                               (1,1,1), # window strides\n",
        "                               'SAME',  # padding mode\n",
        "                               (1,1,1), # lhs/image dilation\n",
        "                               (1,1,1), # rhs/kernel dilation\n",
        "                               dn)      # dimension_numbers\n",
        "print(\"out shape: \", out.shape)\n",
        "\n",
        "# Make some simple 3d density plots:\n",
        "from mpl_toolkits.mplot3d import Axes3D\n",
        "def make_alpha(cmap):\n",
        "  my_cmap = cmap(np.arange(cmap.N))\n",
        "  my_cmap[:,-1] = np.linspace(0, 1, cmap.N)**3\n",
        "  return mpl.colors.ListedColormap(my_cmap)\n",
        "my_cmap = make_alpha(plt.cm.viridis)\n",
        "fig = plt.figure()\n",
        "ax = fig.gca(projection='3d')\n",
        "ax.scatter(x.ravel(), y.ravel(), z.ravel(), c=data.ravel(), cmap=my_cmap)\n",
        "ax.axis('off')\n",
        "ax.set_title('input')\n",
        "fig = plt.figure()\n",
        "ax = fig.gca(projection='3d')\n",
        "ax.scatter(x.ravel(), y.ravel(), z.ravel(), c=out.ravel(), cmap=my_cmap)\n",
        "ax.axis('off')\n",
        "ax.set_title('3D conv output');"
      ],
      "execution_count": 0,
      "outputs": [
        {
          "output_type": "stream",
          "text": [
            "in shapes: (1, 30, 30, 30, 1) (3, 3, 3, 1, 1)\n",
            "ConvDimensionNumbers(lhs_spec=(0, 4, 1, 2, 3), rhs_spec=(4, 3, 0, 1, 2), out_spec=(0, 4, 1, 2, 3))\n",
            "out shape:  (1, 30, 30, 30, 1)\n"
          ],
          "name": "stdout"
        },
        {
          "output_type": "display_data",
          "data": {
            "image/png": "[encoded data removed]",
            "text/plain": [
              "<Figure size 432x288 with 1 Axes>"
            ]
          },
          "metadata": {
            "tags": []
          }
        },
        {
          "output_type": "display_data",
          "data": {
            "image/png": "[encoded data removed]",
            "text/plain": [
              "<Figure size 432x288 with 1 Axes>"
            ]
          },
          "metadata": {
            "tags": []
          }
        }
      ]
    },
    {
      "cell_type": "markdown",
      "metadata": {
        "id": "DKTMw6tRZyK2",
        "colab_type": "text"
      },
      "source": [
        "# 🔪 NaNs\n",
        "---"
      ]
    },
    {
      "cell_type": "markdown",
      "metadata": {
        "id": "ncS0NI4jZrwy",
        "colab_type": "text"
      },
      "source": [
        "### Debugging NaNs\n",
        "\n",
        "If you want to trace where NaNs are occurring in your functions or gradients, you can turn on the NaN-checker by:\n",
        "- setting the `JAX_DEBUG_NANS=True` environment variable.\n",
        "- adding from jax.config `import config` and `config.update(\"jax_debug_nans\", True)` near the top of your main file\n",
        "- adding `from jax.config import config` and `config.parse_flags_with_absl()` to your main file, then set the option using a command-line flag like `--jax_debug_nans=True`.\n",
        "\n",
        "This will cause computations to error-out immediately on production of a NaN.\n",
        "\n",
        "⚠️ You shouldn't have the NaN-checker on if you're not debugging, as it can introduce lots of device-host round-trips and performance regressions!\n"
      ]
    },
    {
      "cell_type": "markdown",
      "metadata": {
        "id": "YTktlwTTMgFl",
        "colab_type": "text"
      },
      "source": [
        "# 🔪 Double (64bit) precision\n",
        "---\n",
        "\n",
        "At the moment, JAX by default enforces single-precision numbers to mitigate the Numpy API's tendency to aggressively promote operands to `double`.  This is the desired behavior for many machine-learning applications, but it may catch you by surprise!"
      ]
    },
    {
      "cell_type": "code",
      "metadata": {
        "id": "CNNGtzM3NDkO",
        "colab_type": "code",
        "outputId": "211d9880-4518-4a7d-f652-e3663274825f",
        "colab": {
          "base_uri": "https://localhost:8080/",
          "height": 34
        }
      },
      "source": [
        "x = random.uniform(random.PRNGKey(0), (1000,), dtype=np.float64)\n",
        "x.dtype"
      ],
      "execution_count": 0,
      "outputs": [
        {
          "output_type": "execute_result",
          "data": {
            "text/plain": [
              "dtype('float32')"
            ]
          },
          "metadata": {
            "tags": []
          },
          "execution_count": 14
        }
      ]
    },
    {
      "cell_type": "markdown",
      "metadata": {
        "id": "VcvqzobxNPbd",
        "colab_type": "text"
      },
      "source": [
        "To use double-precision numbers, you need to set the `jax_enable_x64` configuration variable __at startup__.  \n",
        "\n",
        "There are a few ways to do this:\n",
        "\n",
        "1. You can enable 64bit mode by setting the environment variable `JAX_ENABLE_X64=True`.\n",
        "\n",
        "2. You can manually set the `jax_enable_x64` configuration flag at startup:\n",
        "\n",
        "```\n",
        "# again, this only works on startup!\n",
        "from jax.config import config\n",
        "config.update(\"jax_enable_x64\", True)\n",
        "```\n",
        "\n",
        "3. You can parse command-line flags with `absl.app.run(main)`\n",
        "\n",
        "```\n",
        "from jax.config import config\n",
        "config.config_with_absl()\n",
        "```\n",
        "\n",
        "4. If you want JAX to run absl parsing for you, i.e. you don't want to do `absl.app.run(main)`, you can instead use\n",
        "\n",
        "```\n",
        "from jax.config import config\n",
        "if __name__ == '__main__':\n",
        "  # calls config.config_with_absl() *and* runs absl parsing\n",
        "  config.parse_flags_with_absl()\n",
        "```\n",
        "\n",
        "Note that #2-#4 work for _any_ of JAX's configuration options.\n",
        "\n",
        "We can then confirm that `x64` mode is enabled:"
      ]
    },
    {
      "cell_type": "code",
      "metadata": {
        "id": "HqGbBa9Rr-2g",
        "colab_type": "code",
        "colab": {}
      },
      "source": [
        "from jax import numpy as np, random\n",
        "x = random.uniform(random.PRNGKey(0), (1000,), dtype=np.float64)\n",
        "x.dtype # --> dtype('float64')"
      ],
      "execution_count": 0,
      "outputs": []
    },
    {
      "cell_type": "markdown",
      "metadata": {
        "id": "6Cks2_gKsXaW",
        "colab_type": "text"
      },
      "source": [
        "### Caveats\n",
        "⚠️ XLA doesn't support 64-bit convolutions on all backends!"
      ]
    },
    {
      "cell_type": "markdown",
      "metadata": {
        "id": "WAHjmL0E2XwO",
        "colab_type": "text"
      },
      "source": [
        "# Fin.\n",
        "---\n",
        "If something's not covered here that has caused you weeping and gnashing of teeth, please let us know and we'll extend these introductory _advisos_!"
      ]
    }
  ]
}
